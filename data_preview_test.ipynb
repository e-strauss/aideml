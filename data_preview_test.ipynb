{
 "cells": [
  {
   "cell_type": "code",
   "id": "initial_id",
   "metadata": {
    "collapsed": true,
    "ExecuteTime": {
     "end_time": "2025-10-08T14:57:57.058521Z",
     "start_time": "2025-10-08T14:57:53.185526Z"
    }
   },
   "source": "import aide.utils.data_preview as dp",
   "outputs": [],
   "execution_count": 1
  },
  {
   "metadata": {
    "ExecuteTime": {
     "end_time": "2025-10-08T15:03:07.955918Z",
     "start_time": "2025-10-08T15:03:07.953731Z"
    }
   },
   "cell_type": "code",
   "source": "path = \"/home/elias/PycharmProjects/skrubify/pipelines/tabular-playground-series-oct-2022/input\"",
   "id": "5997f9475c51d7ce",
   "outputs": [],
   "execution_count": 13
  },
  {
   "metadata": {
    "ExecuteTime": {
     "end_time": "2025-10-08T15:04:36.134267Z",
     "start_time": "2025-10-08T15:03:08.466648Z"
    }
   },
   "cell_type": "code",
   "source": "print(dp.generate(path, simple=True))",
   "id": "9704b9f190f0e237",
   "outputs": [
    {
     "name": "stdout",
     "output_type": "stream",
     "text": [
      "```\n",
      "X.csv (9229 lines)\n",
      "X_10.csv (92281 lines)\n",
      "jspec_x.json (5 lines)\n",
      "sample_submission.csv (701144 lines)\n",
      "test.csv (701144 lines)\n",
      "test_dtypes.csv (56 lines)\n",
      "train_0.csv (2149382 lines)\n",
      "train_1.csv (2168775 lines)\n",
      "... and 10 other files```\n",
      "\n",
      "-> X.csv has 9228 rows and 8 columns.\n",
      "The columns are: gender, department, department_name, division, assignment_category, employee_position_title, date_first_hired, year_first_hired\n",
      "\n",
      "-> X_10.csv has 92280 rows and 8 columns.\n",
      "The columns are: gender, department, department_name, division, assignment_category, employee_position_title, date_first_hired, year_first_hired\n",
      "\n",
      "-> jspec_x.json has auto-generated json schema:\n",
      "{\n",
      "  \"$schema\": \"http://json-schema.org/schema#\",\n",
      "  \"type\": \"object\",\n",
      "  \"properties\": {\n",
      "    \"ids\": {\n",
      "      \"type\": \"boolean\"\n",
      "    },\n",
      "    \"recode\": {\n",
      "      \"type\": \"array\",\n",
      "      \"items\": {\n",
      "        \"type\": \"integer\"\n",
      "      }\n",
      "    },\n",
      "    \"dummycode\": {\n",
      "      \"type\": \"array\",\n",
      "      \"items\": {\n",
      "        \"type\": \"integer\"\n",
      "      }\n",
      "    }\n",
      "  },\n",
      "  \"required\": [\n",
      "    \"dummycode\",\n",
      "    \"ids\",\n",
      "    \"recode\"\n",
      "  ]\n",
      "}\n",
      "\n",
      "-> sample_submission.csv has 701143 rows and 3 columns.\n",
      "The columns are: id, team_A_scoring_within_10sec, team_B_scoring_within_10sec\n",
      "\n",
      "-> test.csv has 701143 rows and 55 columns.\n",
      "The columns are: id, ball_pos_x, ball_pos_y, ball_pos_z, ball_vel_x, ball_vel_y, ball_vel_z, p0_pos_x, p0_pos_y, p0_pos_z, p0_vel_x, p0_vel_y, p0_vel_z, p0_boost, p1_pos_x... and 40 more columns\n",
      "\n",
      "-> test_dtypes.csv has 55 rows and 2 columns.\n",
      "The columns are: column, dtype\n",
      "\n",
      "-> train_0.csv has 2149381 rows and 61 columns.\n",
      "The columns are: game_num, event_id, event_time, ball_pos_x, ball_pos_y, ball_pos_z, ball_vel_x, ball_vel_y, ball_vel_z, p0_pos_x, p0_pos_y, p0_pos_z, p0_vel_x, p0_vel_y, p0_vel_z... and 46 more columns\n",
      "\n",
      "-> train_1.csv has 2168774 rows and 61 columns.\n",
      "The columns are: game_num, event_id, event_time, ball_pos_x, ball_pos_y, ball_pos_z, ball_vel_x, ball_vel_y, ball_vel_z, p0_pos_x, p0_pos_y, p0_pos_z, p0_vel_x, p0_vel_y, p0_vel_z... and 46 more columns\n",
      "\n",
      "-> train_2.csv has 2125491 rows and 61 columns.\n",
      "The columns are: game_num, event_id, event_time, ball_pos_x, ball_pos_y, ball_pos_z, ball_vel_x, ball_vel_y, ball_vel_z, p0_pos_x, p0_pos_y, p0_pos_z, p0_vel_x, p0_vel_y, p0_vel_z... and 46 more columns\n",
      "\n",
      "-> train_3.csv has 2114592 rows and 61 columns.\n",
      "The columns are: game_num, event_id, event_time, ball_pos_x, ball_pos_y, ball_pos_z, ball_vel_x, ball_vel_y, ball_vel_z, p0_pos_x, p0_pos_y, p0_pos_z, p0_vel_x, p0_vel_y, p0_vel_z... and 46 more columns\n",
      "\n",
      "-> train_4.csv has 2117834 rows and 61 columns.\n",
      "The columns are: game_num, event_id, event_time, ball_pos_x, ball_pos_y, ball_pos_z, ball_vel_x, ball_vel_y, ball_vel_z, p0_pos_x, p0_pos_y, p0_pos_z, p0_vel_x, p0_vel_y, p0_vel_z... and 46 more columns\n",
      "\n",
      "-> train_5.csv has 2093735 rows and 61 columns.\n",
      "The columns are: game_num, event_id, event_time, ball_pos_x, ball_pos_y, ball_pos_z, ball_vel_x, ball_vel_y, ball_vel_z, p0_pos_x, p0_pos_y, p0_pos_z, p0_vel_x, p0_vel_y, p0_vel_z... and 46 more columns\n",
      "\n",
      "-> train_6.csv has 2063953 rows and 61 columns.\n",
      "The columns are: game_num, event_id, event_time, ball_pos_x, ball_pos_y, ball_pos_z, ball_vel_x, ball_vel_y, ball_vel_z, p0_pos_x, p0_pos_y, p0_pos_z, p0_vel_x, p0_vel_y, p0_vel_z... and 46 more columns\n",
      "\n",
      "-> train_7.csv has 2109623 rows and 61 columns.\n",
      "The columns are: game_num, event_id, event_time, ball_pos_x, ball_pos_y, ball_pos_z, ball_vel_x, ball_vel_y, ball_vel_z, p0_pos_x, p0_pos_y, p0_pos_z, p0_vel_x, p0_vel_y, p0_vel_z... and 46 more columns\n",
      "\n",
      "-> train_8.csv has 2151840 rows and 61 columns.\n",
      "The columns are: game_num, event_id, event_time, ball_pos_x, ball_pos_y, ball_pos_z, ball_vel_x, ball_vel_y, ball_vel_z, p0_pos_x, p0_pos_y, p0_pos_z, p0_vel_x, p0_vel_y, p0_vel_z... and 46 more columns\n",
      "\n",
      "-> train_9.csv has 2102813 rows and 61 columns.\n",
      "The columns are: game_num, event_id, event_time, ball_pos_x, ball_pos_y, ball_pos_z, ball_vel_x, ball_vel_y, ball_vel_z, p0_pos_x, p0_pos_y, p0_pos_z, p0_vel_x, p0_vel_y, p0_vel_z... and 46 more columns\n",
      "\n",
      "-> train_dtypes.csv has 61 rows and 2 columns.\n",
      "The columns are: column, dtype\n",
      "\n",
      "-> y.csv has 9228 rows and 2 columns.\n",
      "The columns are: Unnamed: 0, current_annual_salary\n"
     ]
    }
   ],
   "execution_count": 14
  },
  {
   "metadata": {
    "ExecuteTime": {
     "end_time": "2025-10-08T15:08:17.643401Z",
     "start_time": "2025-10-08T15:04:36.194818Z"
    }
   },
   "cell_type": "code",
   "source": "data_preview = dp.generate(path, simple=False)",
   "id": "e9adf8fe446def8e",
   "outputs": [],
   "execution_count": 15
  },
  {
   "metadata": {
    "ExecuteTime": {
     "end_time": "2025-10-08T15:08:17.663193Z",
     "start_time": "2025-10-08T15:08:17.659368Z"
    }
   },
   "cell_type": "code",
   "source": "len(data_preview)",
   "id": "bd3697324ed0f4ac",
   "outputs": [
    {
     "data": {
      "text/plain": [
       "4196"
      ]
     },
     "execution_count": 16,
     "metadata": {},
     "output_type": "execute_result"
    }
   ],
   "execution_count": 16
  },
  {
   "metadata": {},
   "cell_type": "code",
   "outputs": [],
   "execution_count": null,
   "source": "",
   "id": "8915d34c537fcf68"
  }
 ],
 "metadata": {
  "kernelspec": {
   "display_name": "Python 3",
   "language": "python",
   "name": "python3"
  },
  "language_info": {
   "codemirror_mode": {
    "name": "ipython",
    "version": 2
   },
   "file_extension": ".py",
   "mimetype": "text/x-python",
   "name": "python",
   "nbconvert_exporter": "python",
   "pygments_lexer": "ipython2",
   "version": "2.7.6"
  }
 },
 "nbformat": 4,
 "nbformat_minor": 5
}
