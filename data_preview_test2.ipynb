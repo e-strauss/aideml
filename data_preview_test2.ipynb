{
 "cells": [
  {
   "cell_type": "code",
   "id": "initial_id",
   "metadata": {
    "collapsed": true,
    "ExecuteTime": {
     "end_time": "2025-10-08T15:18:48.983268Z",
     "start_time": "2025-10-08T15:18:48.981114Z"
    }
   },
   "source": [
    "import aide.utils.data_preview as dp\n",
    "import random\n",
    "import numpy as np\n",
    "import string\n",
    "import pandas as pd"
   ],
   "outputs": [],
   "execution_count": 24
  },
  {
   "metadata": {
    "ExecuteTime": {
     "end_time": "2025-10-08T15:18:51.637225Z",
     "start_time": "2025-10-08T15:18:51.632584Z"
    }
   },
   "cell_type": "code",
   "source": [
    "def create_random_dataframe(features):\n",
    "    n_rows = 100\n",
    "    df_data = {}\n",
    "\n",
    "    for feature in features:\n",
    "        dtype = random.choice(['int', 'float', 'str', 'bool'])\n",
    "\n",
    "        if dtype == 'int':\n",
    "            df_data[feature] = np.random.randint(0, 1000, size=n_rows)\n",
    "\n",
    "        elif dtype == 'float':\n",
    "            df_data[feature] = np.random.rand(n_rows) * 100\n",
    "\n",
    "        elif dtype == 'str':\n",
    "            df_data[feature] = [\n",
    "                ''.join(random.choices(string.ascii_letters, k=5))\n",
    "                for _ in range(n_rows)\n",
    "            ]\n",
    "\n",
    "        elif dtype == 'bool':\n",
    "            df_data[feature] = np.random.choice([True, False], size=n_rows)\n",
    "\n",
    "    df = pd.DataFrame(df_data)\n",
    "    return df"
   ],
   "id": "5997f9475c51d7ce",
   "outputs": [],
   "execution_count": 25
  },
  {
   "metadata": {
    "ExecuteTime": {
     "end_time": "2025-10-08T15:18:53.209470Z",
     "start_time": "2025-10-08T15:18:53.204130Z"
    }
   },
   "cell_type": "code",
   "source": [
    "num_features = 30\n",
    "feature_names = [''.join(random.choices(string.ascii_letters, k=5)) for _ in range(num_features)]\n",
    "df = create_random_dataframe(feature_names)"
   ],
   "id": "701a3d3b2c12a350",
   "outputs": [],
   "execution_count": 26
  },
  {
   "metadata": {},
   "cell_type": "code",
   "outputs": [],
   "execution_count": null,
   "source": "",
   "id": "4d27e697beda724"
  },
  {
   "metadata": {
    "ExecuteTime": {
     "end_time": "2025-10-08T15:25:45.184273Z",
     "start_time": "2025-10-08T15:25:44.952288Z"
    }
   },
   "cell_type": "code",
   "source": [
    "length = []\n",
    "cols = [20, 30, 35, 40, 45, 50]\n",
    "for i in cols:\n",
    "    feature_names = [''.join(random.choices(string.ascii_letters, k=5)) for _ in range(i)]\n",
    "    df = create_random_dataframe(feature_names)\n",
    "    df.to_csv(\"preview_test_data/train.csv\")\n",
    "    df.to_csv(\"preview_test_data/test.csv\")\n",
    "    desc = dp.generate(\"preview_test_data/\", simple=False)\n",
    "    length.append(len(desc))\n",
    "result = pd.DataFrame({\"num_features\": cols, \"descriptoin_length\": length})"
   ],
   "id": "f0d3b837a90ba86a",
   "outputs": [],
   "execution_count": 41
  },
  {
   "metadata": {
    "ExecuteTime": {
     "end_time": "2025-10-08T15:25:45.534899Z",
     "start_time": "2025-10-08T15:25:45.530260Z"
    }
   },
   "cell_type": "code",
   "source": "result",
   "id": "9565620ed6610907",
   "outputs": [
    {
     "data": {
      "text/plain": [
       "   num_features  descriptoin_length\n",
       "0            20                3284\n",
       "1            30                4344\n",
       "2            35                4536\n",
       "3            40                5092\n",
       "4            45                5678\n",
       "5            50                 432"
      ],
      "text/html": [
       "<div>\n",
       "<style scoped>\n",
       "    .dataframe tbody tr th:only-of-type {\n",
       "        vertical-align: middle;\n",
       "    }\n",
       "\n",
       "    .dataframe tbody tr th {\n",
       "        vertical-align: top;\n",
       "    }\n",
       "\n",
       "    .dataframe thead th {\n",
       "        text-align: right;\n",
       "    }\n",
       "</style>\n",
       "<table border=\"1\" class=\"dataframe\">\n",
       "  <thead>\n",
       "    <tr style=\"text-align: right;\">\n",
       "      <th></th>\n",
       "      <th>num_features</th>\n",
       "      <th>descriptoin_length</th>\n",
       "    </tr>\n",
       "  </thead>\n",
       "  <tbody>\n",
       "    <tr>\n",
       "      <th>0</th>\n",
       "      <td>20</td>\n",
       "      <td>3284</td>\n",
       "    </tr>\n",
       "    <tr>\n",
       "      <th>1</th>\n",
       "      <td>30</td>\n",
       "      <td>4344</td>\n",
       "    </tr>\n",
       "    <tr>\n",
       "      <th>2</th>\n",
       "      <td>35</td>\n",
       "      <td>4536</td>\n",
       "    </tr>\n",
       "    <tr>\n",
       "      <th>3</th>\n",
       "      <td>40</td>\n",
       "      <td>5092</td>\n",
       "    </tr>\n",
       "    <tr>\n",
       "      <th>4</th>\n",
       "      <td>45</td>\n",
       "      <td>5678</td>\n",
       "    </tr>\n",
       "    <tr>\n",
       "      <th>5</th>\n",
       "      <td>50</td>\n",
       "      <td>432</td>\n",
       "    </tr>\n",
       "  </tbody>\n",
       "</table>\n",
       "</div>"
      ]
     },
     "execution_count": 42,
     "metadata": {},
     "output_type": "execute_result"
    }
   ],
   "execution_count": 42
  },
  {
   "metadata": {
    "ExecuteTime": {
     "end_time": "2025-10-08T15:06:43.756526Z",
     "start_time": "2025-10-08T15:06:43.180736Z"
    }
   },
   "cell_type": "code",
   "source": "print(dp.generate(path, simple=True))",
   "id": "9704b9f190f0e237",
   "outputs": [
    {
     "name": "stdout",
     "output_type": "stream",
     "text": [
      "```\n",
      "sample_submission.csv (19751 lines)\n",
      "test.csv (19751 lines)\n",
      "train.csv (251 lines)```\n",
      "\n",
      "-> sample_submission.csv has 19750 rows and 2 columns.\n",
      "The columns are: id, target\n",
      "\n",
      "-> test.csv has 19750 rows and 301 columns.\n",
      "The columns are: id, 0, 1, 2, 3, 4, 5, 6, 7, 8, 9, 10, 11, 12, 13... and 286 more columns\n",
      "\n",
      "-> train.csv has 250 rows and 302 columns.\n",
      "The columns are: id, target, 0, 1, 2, 3, 4, 5, 6, 7, 8, 9, 10, 11, 12... and 287 more columns\n"
     ]
    }
   ],
   "execution_count": 10
  },
  {
   "metadata": {
    "ExecuteTime": {
     "end_time": "2025-10-08T15:06:45.346892Z",
     "start_time": "2025-10-08T15:06:44.013200Z"
    }
   },
   "cell_type": "code",
   "source": "data_preview = dp.generate(path, simple=False)",
   "id": "e9adf8fe446def8e",
   "outputs": [],
   "execution_count": 11
  },
  {
   "metadata": {
    "ExecuteTime": {
     "end_time": "2025-10-08T15:06:45.361682Z",
     "start_time": "2025-10-08T15:06:45.357475Z"
    }
   },
   "cell_type": "code",
   "source": "len(data_preview)",
   "id": "bd3697324ed0f4ac",
   "outputs": [
    {
     "data": {
      "text/plain": [
       "444"
      ]
     },
     "execution_count": 12,
     "metadata": {},
     "output_type": "execute_result"
    }
   ],
   "execution_count": 12
  },
  {
   "metadata": {
    "ExecuteTime": {
     "end_time": "2025-10-08T15:07:19.003474Z",
     "start_time": "2025-10-08T15:07:19.000572Z"
    }
   },
   "cell_type": "code",
   "source": "print(data_preview)",
   "id": "8915d34c537fcf68",
   "outputs": [
    {
     "name": "stdout",
     "output_type": "stream",
     "text": [
      "```\n",
      "sample_submission.csv (19751 lines)\n",
      "test.csv (19751 lines)\n",
      "train.csv (251 lines)```\n",
      "\n",
      "-> sample_submission.csv has 19750 rows and 2 columns.\n",
      "The columns are: id, target\n",
      "\n",
      "-> test.csv has 19750 rows and 301 columns.\n",
      "The columns are: id, 0, 1, 2, 3, 4, 5, 6, 7, 8, 9, 10, 11, 12, 13... and 286 more columns\n",
      "\n",
      "-> train.csv has 250 rows and 302 columns.\n",
      "The columns are: id, target, 0, 1, 2, 3, 4, 5, 6, 7, 8, 9, 10, 11, 12... and 287 more columns\n"
     ]
    }
   ],
   "execution_count": 14
  },
  {
   "metadata": {},
   "cell_type": "code",
   "outputs": [],
   "execution_count": null,
   "source": "",
   "id": "39be13d407b88317"
  }
 ],
 "metadata": {
  "kernelspec": {
   "display_name": "Python 3",
   "language": "python",
   "name": "python3"
  },
  "language_info": {
   "codemirror_mode": {
    "name": "ipython",
    "version": 2
   },
   "file_extension": ".py",
   "mimetype": "text/x-python",
   "name": "python",
   "nbconvert_exporter": "python",
   "pygments_lexer": "ipython2",
   "version": "2.7.6"
  }
 },
 "nbformat": 4,
 "nbformat_minor": 5
}
